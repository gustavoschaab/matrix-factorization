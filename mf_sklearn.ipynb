{
 "cells": [
  {
   "cell_type": "code",
   "execution_count": 1,
   "metadata": {
    "collapsed": true
   },
   "outputs": [],
   "source": [
    "import numpy as np"
   ]
  },
  {
   "cell_type": "code",
   "execution_count": 4,
   "metadata": {
    "collapsed": true
   },
   "outputs": [],
   "source": [
    "X = np.array([\n",
    "    [5, 3, 0, 1],\n",
    "    [4, 0, 0, 1],\n",
    "    [1, 1, 0, 5],\n",
    "    [1, 0, 0, 4],\n",
    "    [0, 1, 5, 4],\n",
    "])\n",
    "from sklearn.decomposition import NMF\n",
    "model = NMF(n_components=4, init='random', random_state=0)\n",
    "W = model.fit_transform(X)\n",
    "H = model.components_"
   ]
  },
  {
   "cell_type": "code",
   "execution_count": 5,
   "metadata": {},
   "outputs": [
    {
     "name": "stdout",
     "output_type": "stream",
     "text": [
      "Matrix W\n",
      "[[  2.54138865e-01   2.18987773e+00   0.00000000e+00   1.08403239e+00]\n",
      " [  2.21493346e-02   0.00000000e+00   0.00000000e+00   2.24063058e+00]\n",
      " [  2.35553275e+00   7.18358583e-01   1.02079516e-03   0.00000000e+00]\n",
      " [  1.77247213e+00   0.00000000e+00   0.00000000e+00   5.60159674e-01]\n",
      " [  1.26457516e-01   0.00000000e+00   4.65769783e+00   6.72250655e-10]]\n",
      "Matrix H\n",
      "[[  0.00000000e+00   4.15145184e-03   0.00000000e+00   2.12231320e+00]\n",
      " [  1.39878684e+00   1.37030168e+00   0.00000000e+00   0.00000000e+00]\n",
      " [  0.00000000e+00   2.14585894e-01   1.07349166e+00   8.01172098e-01]\n",
      " [  1.78547796e+00   0.00000000e+00   2.48027294e-17   4.25253062e-01]]\n"
     ]
    }
   ],
   "source": [
    "print(\"Matrix W\")\n",
    "print(W)\n",
    "print(\"Matrix H\")\n",
    "print(H)"
   ]
  },
  {
   "cell_type": "code",
   "execution_count": null,
   "metadata": {
    "collapsed": true
   },
   "outputs": [],
   "source": []
  }
 ],
 "metadata": {
  "kernelspec": {
   "display_name": "Python 3",
   "language": "python",
   "name": "python3"
  },
  "language_info": {
   "codemirror_mode": {
    "name": "ipython",
    "version": 3
   },
   "file_extension": ".py",
   "mimetype": "text/x-python",
   "name": "python",
   "nbconvert_exporter": "python",
   "pygments_lexer": "ipython3",
   "version": "3.6.1"
  }
 },
 "nbformat": 4,
 "nbformat_minor": 2
}
